{
 "cells": [
  {
   "cell_type": "code",
   "execution_count": 1,
   "metadata": {},
   "outputs": [],
   "source": [
    "lst=['a',2,'True',\"acbd\"] # list can have different data types"
   ]
  },
  {
   "cell_type": "code",
   "execution_count": 2,
   "metadata": {},
   "outputs": [
    {
     "name": "stdout",
     "output_type": "stream",
     "text": [
      "[1, 4, 7, 6, 9, 2, 3, 8, 7, 6]\n"
     ]
    }
   ],
   "source": [
    "#method 1\n",
    "lst1=[1,4,7,6,9]\n",
    "lst2=[2,3,8,7,6]\n",
    "lst3 = lst1 + lst2\n",
    "print(lst3)"
   ]
  },
  {
   "cell_type": "code",
   "execution_count": 3,
   "metadata": {},
   "outputs": [
    {
     "name": "stdout",
     "output_type": "stream",
     "text": [
      "[1, 4, 7, 6, 9, 2, 3, 8, 7, 6]\n"
     ]
    }
   ],
   "source": [
    "#method 2\n",
    "lst1=[1,4,7,6,9]\n",
    "lst2=[2,3,8,7,6]\n",
    "for i in lst2:\n",
    "    lst1.append(i)\n",
    "print(lst1)\n",
    "    "
   ]
  },
  {
   "cell_type": "code",
   "execution_count": 6,
   "metadata": {},
   "outputs": [
    {
     "name": "stdout",
     "output_type": "stream",
     "text": [
      "[1, 4, 7, 6, 9, 2, 3, 8, 7, 6]\n"
     ]
    }
   ],
   "source": [
    "#method 3\n",
    "lst1=[1,4,7,6,9]\n",
    "lst2=[2,3,8,7,6]\n",
    "lst1.extend(lst2)\n",
    "print(lst1)"
   ]
  },
  {
   "cell_type": "code",
   "execution_count": 8,
   "metadata": {},
   "outputs": [
    {
     "name": "stdout",
     "output_type": "stream",
     "text": [
      "[1, 4, 7, 6, 9, 2, 3, 8, 7, 6]\n"
     ]
    }
   ],
   "source": [
    "#method 4\n",
    "lst1=[1,4,7,6,9]\n",
    "lst2=[2,3,8,7,6]\n",
    "lst=[*lst1,*lst2]\n",
    "print(lst)"
   ]
  },
  {
   "cell_type": "code",
   "execution_count": 9,
   "metadata": {},
   "outputs": [
    {
     "name": "stdout",
     "output_type": "stream",
     "text": [
      "[1, 2, 3, 4, 6, 7, 8, 9]\n"
     ]
    }
   ],
   "source": [
    "#without duplicates\n",
    "lst1=[1,4,7,6,9]\n",
    "lst2=[2,3,8,7,6]\n",
    "lst3 = list(set(lst1 + lst2))\n",
    "print(lst3)"
   ]
  },
  {
   "cell_type": "code",
   "execution_count": null,
   "metadata": {},
   "outputs": [],
   "source": []
  }
 ],
 "metadata": {
  "kernelspec": {
   "display_name": "Python 3",
   "language": "python",
   "name": "python3"
  },
  "language_info": {
   "codemirror_mode": {
    "name": "ipython",
    "version": 3
   },
   "file_extension": ".py",
   "mimetype": "text/x-python",
   "name": "python",
   "nbconvert_exporter": "python",
   "pygments_lexer": "ipython3",
   "version": "3.11.1"
  },
  "vscode": {
   "interpreter": {
    "hash": "785a3187497ab91be79f91af594f56fd45606f1fd1b4ce937cc59c435e2457fd"
   }
  }
 },
 "nbformat": 4,
 "nbformat_minor": 4
}
